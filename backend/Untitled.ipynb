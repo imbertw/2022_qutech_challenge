{
 "cells": [
  {
   "cell_type": "code",
   "execution_count": 10,
   "id": "68407270",
   "metadata": {},
   "outputs": [
    {
     "data": {
      "text/plain": [
       "'import smtplib\\n\\ngmail_user = \\'alice.n.bob123@gmail.com\\'\\ngmail_password = \\'EVEDONTHACKUS123!\\'\\n\\nsent_from = gmail_user\\nto = [item.email]\\nsubject = \\'Hi Bob\\'\\nbody = \\'Alice sent you the following bitstring: \\', item.bit\\n\\nemail_text = \"\"\"\\\\\\nFrom: %s\\nTo: %s\\nSubject: %s\\n\\n%s\\n\"\"\" % (sent_from, \", \".join(to), subject, body)\\n\\ntry:\\n    smtp_server = smtplib.SMTP_SSL(\\'smtp.gmail.com\\', 465)\\n    smtp_server.ehlo()\\n    smtp_server.login(gmail_user, gmail_password)\\n    smtp_server.sendmail(sent_from, to, email_text)\\n    smtp_server.close()\\n    print (\"Email sent successfully!\")\\nexcept Exception as ex:\\n    print (\"Something went wrong….\",ex)\\n\\n'"
      ]
     },
     "execution_count": 10,
     "metadata": {},
     "output_type": "execute_result"
    }
   ],
   "source": [
    "f = open(\"script.py\", \"r\")\n",
    "source_code = f.read()\n",
    "\n",
    "source_code"
   ]
  },
  {
   "cell_type": "code",
   "execution_count": 11,
   "id": "1596d496",
   "metadata": {},
   "outputs": [
    {
     "data": {
      "text/plain": [
       "['1', '0', '0', '1']"
      ]
     },
     "execution_count": 11,
     "metadata": {},
     "output_type": "execute_result"
    }
   ],
   "source": [
    "a = '1001'\n",
    "\n",
    "list(a)"
   ]
  },
  {
   "cell_type": "code",
   "execution_count": null,
   "id": "5f234071",
   "metadata": {},
   "outputs": [],
   "source": []
  }
 ],
 "metadata": {
  "kernelspec": {
   "display_name": "Python 3",
   "language": "python",
   "name": "python3"
  },
  "language_info": {
   "codemirror_mode": {
    "name": "ipython",
    "version": 3
   },
   "file_extension": ".py",
   "mimetype": "text/x-python",
   "name": "python",
   "nbconvert_exporter": "python",
   "pygments_lexer": "ipython3",
   "version": "3.8.8"
  }
 },
 "nbformat": 4,
 "nbformat_minor": 5
}
